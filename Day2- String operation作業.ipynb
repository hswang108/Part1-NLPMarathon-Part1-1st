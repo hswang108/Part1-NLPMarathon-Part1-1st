{
 "cells": [
  {
   "cell_type": "markdown",
   "metadata": {},
   "source": [
    "# 作業目標：運用課程所學，操作字串達到預期輸出"
   ]
  },
  {
   "cell_type": "markdown",
   "metadata": {},
   "source": [
    "---"
   ]
  },
  {
   "cell_type": "markdown",
   "metadata": {},
   "source": [
    "### isnumeric(), isdigit(), isdecimal() 各有幾個"
   ]
  },
  {
   "cell_type": "code",
   "execution_count": 1,
   "metadata": {},
   "outputs": [],
   "source": [
    "test_string = ['5.9', '30', '½', '³', '⑬']"
   ]
  },
  {
   "cell_type": "code",
   "execution_count": 2,
   "metadata": {},
   "outputs": [],
   "source": [
    "def spam(s, isnumeric_count, isdigit_count, isdecimal_count):\n",
    "    d = {'isnumeric_count':isnumeric_count, 'isdigit_count': isdigit_count, 'isdecimal_count': isdecimal_count}\n",
    "    for attr in ['isnumeric', 'isdecimal', 'isdigit']:\n",
    "        if getattr(s, attr)():\n",
    "            d['{}_count'.format(attr)] += 1\n",
    "    return d['isnumeric_count'], d['isdigit_count'], d['isdecimal_count']"
   ]
  },
  {
   "cell_type": "code",
   "execution_count": 3,
   "metadata": {},
   "outputs": [],
   "source": [
    "isnumeric_count, isdigit_count, isdecimal_count = 0, 0, 0\n",
    "for s in test_string:\n",
    "    isnumeric_count, isdigit_count, isdecimal_count = spam(s, isnumeric_count, isdigit_count, isdecimal_count)"
   ]
  },
  {
   "cell_type": "code",
   "execution_count": 4,
   "metadata": {},
   "outputs": [
    {
     "output_type": "stream",
     "name": "stdout",
     "text": [
      "isnumeric_count: 4\nisdigit_count: 2\nisdecimal_count: 1\n"
     ]
    }
   ],
   "source": [
    "print('isnumeric_count: {}'.format(isnumeric_count))     \n",
    "print('isdigit_count: {}'.format(isdigit_count))     \n",
    "print('isdecimal_count: {}'.format(isdecimal_count))  "
   ]
  },
  {
   "cell_type": "markdown",
   "metadata": {},
   "source": [
    "---"
   ]
  },
  {
   "cell_type": "markdown",
   "metadata": {},
   "source": [
    "## 運用formatting 技巧 output\n",
    "    * Accuracy: 98.13%, Recall: 94.88%, Precision: 96.29%"
   ]
  },
  {
   "cell_type": "code",
   "execution_count": 5,
   "metadata": {},
   "outputs": [],
   "source": [
    "accuracy = 98.129393\n",
    "recall =   94.879583\n",
    "precision =96.294821"
   ]
  },
  {
   "cell_type": "code",
   "execution_count": 6,
   "metadata": {},
   "outputs": [
    {
     "output_type": "stream",
     "name": "stdout",
     "text": [
      "Accuracy: 98.13%, Recall: 94.88%, Precision: 96.29%\n"
     ]
    }
   ],
   "source": [
    "print('Accuracy: {accuracy:.2f}%, Recall: {recall:.2f}%, Precision: {precision:.2f}%'.format(\n",
    "    accuracy = 98.129393, recall =   94.879583, precision =96.294821))"
   ]
  },
  {
   "cell_type": "code",
   "execution_count": 7,
   "metadata": {},
   "outputs": [],
   "source": [
    "accuracy = 0.98129393\n",
    "recall =   0.94879583\n",
    "precision =0.96294821"
   ]
  },
  {
   "cell_type": "code",
   "execution_count": 8,
   "metadata": {},
   "outputs": [
    {
     "output_type": "stream",
     "name": "stdout",
     "text": [
      "Accuracy: 98.13%, Recall: 94.88%, Precision: 96.29%\n"
     ]
    }
   ],
   "source": [
    "print('Accuracy: {accuracy:.2%}, Recall: {recall:.2%}, Precision: {precision:.2%}'.format(\n",
    "    accuracy = 0.98129393, recall = 0.94879583, precision =0.96294821))"
   ]
  },
  {
   "cell_type": "markdown",
   "metadata": {},
   "source": [
    "---"
   ]
  },
  {
   "cell_type": "markdown",
   "metadata": {},
   "source": [
    "## 依照只是轉換number output format"
   ]
  },
  {
   "cell_type": "code",
   "execution_count": 9,
   "metadata": {},
   "outputs": [],
   "source": [
    "number = 3.1415926"
   ]
  },
  {
   "cell_type": "markdown",
   "metadata": {},
   "source": [
    "#### 轉換為科學符號表示法 (小數點後兩位)"
   ]
  },
  {
   "cell_type": "code",
   "execution_count": 10,
   "metadata": {},
   "outputs": [
    {
     "output_type": "stream",
     "name": "stdout",
     "text": [
      "3.14e+00\n"
     ]
    }
   ],
   "source": [
    "print('{:.2e}'.format(number))"
   ]
  },
  {
   "cell_type": "markdown",
   "metadata": {},
   "source": [
    "#### 轉換為%"
   ]
  },
  {
   "cell_type": "code",
   "execution_count": 11,
   "metadata": {},
   "outputs": [
    {
     "output_type": "stream",
     "name": "stdout",
     "text": [
      "314.16%\n"
     ]
    }
   ],
   "source": [
    "print('{:.2%}'.format(number))"
   ]
  },
  {
   "cell_type": "markdown",
   "metadata": {},
   "source": [
    "#### 補零成為3.14159300"
   ]
  },
  {
   "cell_type": "code",
   "execution_count": 16,
   "metadata": {},
   "outputs": [
    {
     "output_type": "stream",
     "name": "stdout",
     "text": [
      "00003.1415926\n"
     ]
    }
   ],
   "source": [
    "print('{:0>13}'.format(number))"
   ]
  },
  {
   "cell_type": "code",
   "execution_count": null,
   "metadata": {},
   "outputs": [],
   "source": []
  }
 ],
 "metadata": {
  "kernelspec": {
   "display_name": "Python 3",
   "language": "python",
   "name": "python3"
  },
  "language_info": {
   "codemirror_mode": {
    "name": "ipython",
    "version": 3
   },
   "file_extension": ".py",
   "mimetype": "text/x-python",
   "name": "python",
   "nbconvert_exporter": "python",
   "pygments_lexer": "ipython3",
   "version": "3.7.6-final"
  }
 },
 "nbformat": 4,
 "nbformat_minor": 2
}